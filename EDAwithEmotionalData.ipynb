{
 "cells": [
  {
   "cell_type": "code",
   "execution_count": 22,
   "id": "f8dc9a6c-1717-4d47-ab54-adc61f6e928b",
   "metadata": {},
   "outputs": [
    {
     "name": "stdout",
     "output_type": "stream",
     "text": [
      "Defaulting to user installation because normal site-packages is not writeable\n",
      "Requirement already satisfied: pandas in /home/deepak/.local/lib/python3.10/site-packages (2.2.1)\n",
      "Requirement already satisfied: nltk in /home/deepak/.local/lib/python3.10/site-packages (3.8.1)\n",
      "Requirement already satisfied: matplotlib in /home/deepak/.local/lib/python3.10/site-packages (3.8.3)\n",
      "Requirement already satisfied: seaborn in /home/deepak/.local/lib/python3.10/site-packages (0.13.2)\n",
      "Requirement already satisfied: wordcloud in /home/deepak/.local/lib/python3.10/site-packages (1.9.3)\n",
      "Requirement already satisfied: tzdata>=2022.7 in /home/deepak/.local/lib/python3.10/site-packages (from pandas) (2024.1)\n",
      "Requirement already satisfied: python-dateutil>=2.8.2 in /usr/local/lib/python3.10/dist-packages (from pandas) (2.9.0.post0)\n",
      "Requirement already satisfied: numpy<2,>=1.22.4 in /home/deepak/.local/lib/python3.10/site-packages (from pandas) (1.26.4)\n",
      "Requirement already satisfied: pytz>=2020.1 in /home/deepak/.local/lib/python3.10/site-packages (from pandas) (2024.1)\n",
      "Requirement already satisfied: joblib in /home/deepak/.local/lib/python3.10/site-packages (from nltk) (1.4.2)\n",
      "Requirement already satisfied: regex>=2021.8.3 in /home/deepak/.local/lib/python3.10/site-packages (from nltk) (2024.5.15)\n",
      "Requirement already satisfied: tqdm in /home/deepak/.local/lib/python3.10/site-packages (from nltk) (4.66.4)\n",
      "Requirement already satisfied: click in /usr/lib/python3/dist-packages (from nltk) (8.0.3)\n",
      "Requirement already satisfied: fonttools>=4.22.0 in /home/deepak/.local/lib/python3.10/site-packages (from matplotlib) (4.49.0)\n",
      "Requirement already satisfied: contourpy>=1.0.1 in /home/deepak/.local/lib/python3.10/site-packages (from matplotlib) (1.2.0)\n",
      "Requirement already satisfied: pillow>=8 in /usr/lib/python3/dist-packages (from matplotlib) (9.0.1)\n",
      "Requirement already satisfied: packaging>=20.0 in /usr/local/lib/python3.10/dist-packages (from matplotlib) (23.2)\n",
      "Requirement already satisfied: cycler>=0.10 in /home/deepak/.local/lib/python3.10/site-packages (from matplotlib) (0.12.1)\n",
      "Requirement already satisfied: kiwisolver>=1.3.1 in /home/deepak/.local/lib/python3.10/site-packages (from matplotlib) (1.4.5)\n",
      "Requirement already satisfied: pyparsing>=2.3.1 in /usr/lib/python3/dist-packages (from matplotlib) (2.4.7)\n",
      "Requirement already satisfied: six>=1.5 in /usr/lib/python3/dist-packages (from python-dateutil>=2.8.2->pandas) (1.16.0)\n",
      "Note: you may need to restart the kernel to use updated packages.\n"
     ]
    }
   ],
   "source": [
    "pip install pandas nltk matplotlib seaborn wordcloud\n"
   ]
  },
  {
   "cell_type": "code",
   "execution_count": 23,
   "id": "65f1cb5d-ab36-4c93-87a7-5f340a11ed4e",
   "metadata": {},
   "outputs": [],
   "source": [
    "import numpy as np\n",
    "import pandas as pd\n",
    "import matplotlib.pyplot as plt"
   ]
  },
  {
   "cell_type": "code",
   "execution_count": 24,
   "id": "174f1346-a160-41bc-ae35-864c43acfaa4",
   "metadata": {},
   "outputs": [],
   "source": [
    "df=pd.read_csv(\"eda_meld_emotion_dataset.csv\")\n"
   ]
  },
  {
   "cell_type": "code",
   "execution_count": 25,
   "id": "fe4beafd-036f-40f3-8766-afe5cc176160",
   "metadata": {},
   "outputs": [
    {
     "data": {
      "text/html": [
       "<div>\n",
       "<style scoped>\n",
       "    .dataframe tbody tr th:only-of-type {\n",
       "        vertical-align: middle;\n",
       "    }\n",
       "\n",
       "    .dataframe tbody tr th {\n",
       "        vertical-align: top;\n",
       "    }\n",
       "\n",
       "    .dataframe thead th {\n",
       "        text-align: right;\n",
       "    }\n",
       "</style>\n",
       "<table border=\"1\" class=\"dataframe\">\n",
       "  <thead>\n",
       "    <tr style=\"text-align: right;\">\n",
       "      <th></th>\n",
       "      <th>speaker</th>\n",
       "      <th>utt_id</th>\n",
       "      <th>utterance</th>\n",
       "      <th>emotion</th>\n",
       "      <th>sentiment</th>\n",
       "      <th>eda1</th>\n",
       "      <th>eda2</th>\n",
       "      <th>eda3</th>\n",
       "      <th>eda4</th>\n",
       "      <th>eda5</th>\n",
       "      <th>EDA</th>\n",
       "      <th>all_match</th>\n",
       "      <th>con_match</th>\n",
       "      <th>match</th>\n",
       "    </tr>\n",
       "  </thead>\n",
       "  <tbody>\n",
       "    <tr>\n",
       "      <th>0</th>\n",
       "      <td>b'Chandler'</td>\n",
       "      <td>0</td>\n",
       "      <td>b'also I was the point person on my company\\xc...</td>\n",
       "      <td>neutral</td>\n",
       "      <td>neutral</td>\n",
       "      <td>sd</td>\n",
       "      <td>sd</td>\n",
       "      <td>sd</td>\n",
       "      <td>sd</td>\n",
       "      <td>sd</td>\n",
       "      <td>sd</td>\n",
       "      <td>AllMatch</td>\n",
       "      <td>NotConMatch</td>\n",
       "      <td>NotMatch</td>\n",
       "    </tr>\n",
       "    <tr>\n",
       "      <th>1</th>\n",
       "      <td>b'The Interviewer'</td>\n",
       "      <td>1</td>\n",
       "      <td>b'You must\\xc2\\x92ve had your hands full.'</td>\n",
       "      <td>neutral</td>\n",
       "      <td>neutral</td>\n",
       "      <td>sv</td>\n",
       "      <td>sd</td>\n",
       "      <td>sv</td>\n",
       "      <td>sd</td>\n",
       "      <td>sv</td>\n",
       "      <td>sv</td>\n",
       "      <td>AllNotMatch</td>\n",
       "      <td>ConMatch_eda5_eda3_strong</td>\n",
       "      <td>NotMatch</td>\n",
       "    </tr>\n",
       "    <tr>\n",
       "      <th>2</th>\n",
       "      <td>b'Chandler'</td>\n",
       "      <td>2</td>\n",
       "      <td>b'That I did. That I did.'</td>\n",
       "      <td>neutral</td>\n",
       "      <td>neutral</td>\n",
       "      <td>sd</td>\n",
       "      <td>sd</td>\n",
       "      <td>sd</td>\n",
       "      <td>sd</td>\n",
       "      <td>sd</td>\n",
       "      <td>sd</td>\n",
       "      <td>AllMatch</td>\n",
       "      <td>NotConMatch</td>\n",
       "      <td>NotMatch</td>\n",
       "    </tr>\n",
       "    <tr>\n",
       "      <th>3</th>\n",
       "      <td>b'The Interviewer'</td>\n",
       "      <td>3</td>\n",
       "      <td>b'So let\\xc2\\x92s talk a little bit about your...</td>\n",
       "      <td>neutral</td>\n",
       "      <td>neutral</td>\n",
       "      <td>sd</td>\n",
       "      <td>ad</td>\n",
       "      <td>sv</td>\n",
       "      <td>sv</td>\n",
       "      <td>sd</td>\n",
       "      <td>sv</td>\n",
       "      <td>AllNotMatch</td>\n",
       "      <td>ConMatch_eda4_eda3_con</td>\n",
       "      <td>NotMatch</td>\n",
       "    </tr>\n",
       "    <tr>\n",
       "      <th>4</th>\n",
       "      <td>b'Chandler'</td>\n",
       "      <td>4</td>\n",
       "      <td>b'My duties?  All right.'</td>\n",
       "      <td>surprise</td>\n",
       "      <td>positive</td>\n",
       "      <td>fc</td>\n",
       "      <td>qy</td>\n",
       "      <td>fc</td>\n",
       "      <td>qy</td>\n",
       "      <td>fc</td>\n",
       "      <td>fc</td>\n",
       "      <td>AllNotMatch</td>\n",
       "      <td>ConMatch_eda5_eda3_strong</td>\n",
       "      <td>NotMatch</td>\n",
       "    </tr>\n",
       "  </tbody>\n",
       "</table>\n",
       "</div>"
      ],
      "text/plain": [
       "              speaker  utt_id  \\\n",
       "0         b'Chandler'       0   \n",
       "1  b'The Interviewer'       1   \n",
       "2         b'Chandler'       2   \n",
       "3  b'The Interviewer'       3   \n",
       "4         b'Chandler'       4   \n",
       "\n",
       "                                           utterance   emotion sentiment eda1  \\\n",
       "0  b'also I was the point person on my company\\xc...   neutral   neutral   sd   \n",
       "1         b'You must\\xc2\\x92ve had your hands full.'   neutral   neutral   sv   \n",
       "2                         b'That I did. That I did.'   neutral   neutral   sd   \n",
       "3  b'So let\\xc2\\x92s talk a little bit about your...   neutral   neutral   sd   \n",
       "4                          b'My duties?  All right.'  surprise  positive   fc   \n",
       "\n",
       "  eda2 eda3 eda4 eda5 EDA    all_match                  con_match     match  \n",
       "0   sd   sd   sd   sd  sd     AllMatch                NotConMatch  NotMatch  \n",
       "1   sd   sv   sd   sv  sv  AllNotMatch  ConMatch_eda5_eda3_strong  NotMatch  \n",
       "2   sd   sd   sd   sd  sd     AllMatch                NotConMatch  NotMatch  \n",
       "3   ad   sv   sv   sd  sv  AllNotMatch     ConMatch_eda4_eda3_con  NotMatch  \n",
       "4   qy   fc   qy   fc  fc  AllNotMatch  ConMatch_eda5_eda3_strong  NotMatch  "
      ]
     },
     "execution_count": 25,
     "metadata": {},
     "output_type": "execute_result"
    }
   ],
   "source": [
    "df.head()"
   ]
  },
  {
   "cell_type": "code",
   "execution_count": 26,
   "id": "a6e3e9d0-db2a-41d1-81e1-99619f30e7ea",
   "metadata": {},
   "outputs": [
    {
     "data": {
      "text/plain": [
       "RangeIndex(start=0, stop=13708, step=1)"
      ]
     },
     "execution_count": 26,
     "metadata": {},
     "output_type": "execute_result"
    }
   ],
   "source": [
    "df.index"
   ]
  },
  {
   "cell_type": "code",
   "execution_count": 34,
   "id": "65bac0d2-bb1d-4cac-b3e0-744b54aa6f0f",
   "metadata": {},
   "outputs": [],
   "source": [
    "df1=df[df['speaker']==\"b'Chandler'\"]"
   ]
  },
  {
   "cell_type": "code",
   "execution_count": 39,
   "id": "cad3b965-44ae-4788-aa4e-f8a8a1436ec9",
   "metadata": {},
   "outputs": [],
   "source": [
    "df2=df1[df1['utt_id']==0]['utterance'] \n"
   ]
  },
  {
   "cell_type": "code",
   "execution_count": null,
   "id": "3c4c03f1-0a12-4e81-9b80-0b3b921c984c",
   "metadata": {},
   "outputs": [],
   "source": []
  },
  {
   "cell_type": "code",
   "execution_count": 40,
   "id": "839be65f-c4d9-465d-b3eb-ca4e639ff5fa",
   "metadata": {},
   "outputs": [
    {
     "data": {
      "text/plain": [
       "\"b'also I was the point person on my company\\\\xc2\\\\x92s transition from the KL-5 to GR-6 system.'\""
      ]
     },
     "execution_count": 40,
     "metadata": {},
     "output_type": "execute_result"
    }
   ],
   "source": [
    "df2.iloc[0]"
   ]
  },
  {
   "cell_type": "code",
   "execution_count": null,
   "id": "d289705e-b040-459f-b06e-d49bec948471",
   "metadata": {},
   "outputs": [],
   "source": []
  },
  {
   "cell_type": "code",
   "execution_count": null,
   "id": "a38b0894-5cf1-480f-9200-d6192d6a0abf",
   "metadata": {},
   "outputs": [],
   "source": []
  },
  {
   "cell_type": "code",
   "execution_count": null,
   "id": "ca24829f-48c5-4a91-96e0-c68ac28e7e3f",
   "metadata": {},
   "outputs": [],
   "source": []
  },
  {
   "cell_type": "code",
   "execution_count": null,
   "id": "999ce4fc-c8d5-4f11-b62d-a6512b343354",
   "metadata": {},
   "outputs": [],
   "source": []
  },
  {
   "cell_type": "code",
   "execution_count": null,
   "id": "51ee25d0-6949-4eb5-a682-8b657f34d54d",
   "metadata": {},
   "outputs": [],
   "source": []
  },
  {
   "cell_type": "code",
   "execution_count": null,
   "id": "02815d79-8d37-437c-94f3-cd89ddf9e53e",
   "metadata": {},
   "outputs": [],
   "source": []
  },
  {
   "cell_type": "code",
   "execution_count": 28,
   "id": "3824741d-60f5-47f4-9f9b-c77a1e989bf7",
   "metadata": {},
   "outputs": [
    {
     "data": {
      "text/plain": [
       "Index(['speaker', 'utt_id', 'utterance', 'emotion', 'sentiment', 'eda1',\n",
       "       'eda2', 'eda3', 'eda4', 'eda5', 'EDA', 'all_match', 'con_match',\n",
       "       'match'],\n",
       "      dtype='object')"
      ]
     },
     "execution_count": 28,
     "metadata": {},
     "output_type": "execute_result"
    }
   ],
   "source": [
    "df.columns"
   ]
  },
  {
   "cell_type": "code",
   "execution_count": 42,
   "id": "785dbe97-2a07-4681-9645-1ec94876ebf4",
   "metadata": {},
   "outputs": [
    {
     "data": {
      "text/plain": [
       "'\\nExplanation of Columns\\nspeaker: The identifier of the person speaking.\\nutt_id: Unique identifier for each utterance.\\nutterance: The text spoken by the speaker.\\nemotion: The emotion expressed in the utterance.\\nsentiment: The sentiment (positive, negative, neutral) of the utterance.\\neda1, eda2, eda3, eda4, eda5: Various EDA (Electrodermal Activity) metrics.\\nEDA: Overall EDA score.\\nall_match: Indicator if all conditions are matched.\\ncon_match: Indicator if specific conditions are matched.\\nmatch: Indicator if match conditions are met.\\n'"
      ]
     },
     "execution_count": 42,
     "metadata": {},
     "output_type": "execute_result"
    }
   ],
   "source": [
    "\"\"\"\n",
    "Explanation of Columns\n",
    "speaker: The identifier of the person speaking.\n",
    "utt_id: Unique identifier for each utterance.\n",
    "utterance: The text spoken by the speaker.\n",
    "emotion: The emotion expressed in the utterance.\n",
    "sentiment: The sentiment (positive, negative, neutral) of the utterance.\n",
    "eda1, eda2, eda3, eda4, eda5: Various EDA (Electrodermal Activity) metrics.\n",
    "EDA: Overall EDA score.\n",
    "all_match: Indicator if all conditions are matched.\n",
    "con_match: Indicator if specific conditions are matched.\n",
    "match: Indicator if match conditions are met.\n",
    "\"\"\""
   ]
  },
  {
   "cell_type": "code",
   "execution_count": 29,
   "id": "aea1889a-02fd-4821-8bbd-bb856a328ffe",
   "metadata": {},
   "outputs": [
    {
     "data": {
      "text/plain": [
       "(13708, 14)"
      ]
     },
     "execution_count": 29,
     "metadata": {},
     "output_type": "execute_result"
    }
   ],
   "source": [
    "df.shape"
   ]
  },
  {
   "cell_type": "code",
   "execution_count": 30,
   "id": "e7b25c02-f3f8-4756-a244-6416b987ca37",
   "metadata": {},
   "outputs": [
    {
     "data": {
      "text/plain": [
       "speaker      0\n",
       "utt_id       0\n",
       "utterance    0\n",
       "emotion      0\n",
       "sentiment    0\n",
       "eda1         0\n",
       "eda2         0\n",
       "eda3         0\n",
       "eda4         0\n",
       "eda5         0\n",
       "EDA          0\n",
       "all_match    0\n",
       "con_match    0\n",
       "match        0\n",
       "dtype: int64"
      ]
     },
     "execution_count": 30,
     "metadata": {},
     "output_type": "execute_result"
    }
   ],
   "source": [
    "df.isnull().sum()"
   ]
  },
  {
   "cell_type": "code",
   "execution_count": 31,
   "id": "2fa7c28f-c4b5-4b3a-8cd4-a4fb1bfcb7c9",
   "metadata": {},
   "outputs": [
    {
     "data": {
      "text/plain": [
       "0"
      ]
     },
     "execution_count": 31,
     "metadata": {},
     "output_type": "execute_result"
    }
   ],
   "source": [
    "#Check Null Values\n",
    "df.isnull().sum().sum()"
   ]
  },
  {
   "cell_type": "code",
   "execution_count": 32,
   "id": "dc3cfad8-7b5b-43e7-b17b-1a2e37e656a1",
   "metadata": {},
   "outputs": [
    {
     "data": {
      "text/html": [
       "<div>\n",
       "<style scoped>\n",
       "    .dataframe tbody tr th:only-of-type {\n",
       "        vertical-align: middle;\n",
       "    }\n",
       "\n",
       "    .dataframe tbody tr th {\n",
       "        vertical-align: top;\n",
       "    }\n",
       "\n",
       "    .dataframe thead th {\n",
       "        text-align: right;\n",
       "    }\n",
       "</style>\n",
       "<table border=\"1\" class=\"dataframe\">\n",
       "  <thead>\n",
       "    <tr style=\"text-align: right;\">\n",
       "      <th></th>\n",
       "      <th>utt_id</th>\n",
       "    </tr>\n",
       "  </thead>\n",
       "  <tbody>\n",
       "    <tr>\n",
       "      <th>count</th>\n",
       "      <td>13708.000000</td>\n",
       "    </tr>\n",
       "    <tr>\n",
       "      <th>mean</th>\n",
       "      <td>6.082215</td>\n",
       "    </tr>\n",
       "    <tr>\n",
       "      <th>std</th>\n",
       "      <td>4.949474</td>\n",
       "    </tr>\n",
       "    <tr>\n",
       "      <th>min</th>\n",
       "      <td>0.000000</td>\n",
       "    </tr>\n",
       "    <tr>\n",
       "      <th>25%</th>\n",
       "      <td>2.000000</td>\n",
       "    </tr>\n",
       "    <tr>\n",
       "      <th>50%</th>\n",
       "      <td>5.000000</td>\n",
       "    </tr>\n",
       "    <tr>\n",
       "      <th>75%</th>\n",
       "      <td>9.000000</td>\n",
       "    </tr>\n",
       "    <tr>\n",
       "      <th>max</th>\n",
       "      <td>32.000000</td>\n",
       "    </tr>\n",
       "  </tbody>\n",
       "</table>\n",
       "</div>"
      ],
      "text/plain": [
       "             utt_id\n",
       "count  13708.000000\n",
       "mean       6.082215\n",
       "std        4.949474\n",
       "min        0.000000\n",
       "25%        2.000000\n",
       "50%        5.000000\n",
       "75%        9.000000\n",
       "max       32.000000"
      ]
     },
     "execution_count": 32,
     "metadata": {},
     "output_type": "execute_result"
    }
   ],
   "source": [
    "df.describe()"
   ]
  },
  {
   "cell_type": "code",
   "execution_count": null,
   "id": "9e72cf14-8a0a-48f9-8864-c8868eaca9f8",
   "metadata": {},
   "outputs": [],
   "source": [
    "import re\n",
    "import nltk\n",
    "from nltk.corpus import stopwords\n",
    "from nltk.tokenize import word_tokenize\n",
    "from nltk.stem import WordNetLemmatizer\n",
    "\n",
    "nltk.download('punkt')\n",
    "nltk.download('stopwords')\n",
    "nltk.download('wordnet')\n",
    "\n",
    "stop_words = set(stopwords.words('english'))\n",
    "lemmatizer = WordNetLemmatizer()\n",
    "\n",
    "def preprocess_text(text):\n",
    "    # Remove punctuation\n",
    "    text = re.sub(r'[^\\w\\s]', '', text)\n",
    "    # Tokenize\n",
    "    words = word_tokenize(text)\n",
    "    # Remove stop words and lemmatize\n",
    "    words = [lemmatizer.lemmatize(word.lower()) for word in words if word.lower() not in stop_words]\n",
    "    return ' '.join(words)\n",
    "\n",
    "df['cleaned_text'] = df['text'].apply(preprocess_text)\n",
    "print(df.head())\n"
   ]
  },
  {
   "cell_type": "code",
   "execution_count": null,
   "id": "394412e1-cd09-457b-a790-094b3413287e",
   "metadata": {},
   "outputs": [],
   "source": []
  },
  {
   "cell_type": "code",
   "execution_count": null,
   "id": "fae95292-84e1-4c1b-bb74-6add0c9a6e83",
   "metadata": {},
   "outputs": [],
   "source": []
  },
  {
   "cell_type": "code",
   "execution_count": null,
   "id": "b19d8cb6-29d5-4588-9087-cb94991a73be",
   "metadata": {},
   "outputs": [],
   "source": []
  },
  {
   "cell_type": "code",
   "execution_count": null,
   "id": "e6b14e96-8071-4971-9571-43f3702470bb",
   "metadata": {},
   "outputs": [],
   "source": []
  },
  {
   "cell_type": "code",
   "execution_count": null,
   "id": "f9c40f36-a116-44ef-9304-425c931125f4",
   "metadata": {},
   "outputs": [],
   "source": []
  },
  {
   "cell_type": "code",
   "execution_count": null,
   "id": "c065154e-87ec-491e-b5d6-35aa397ea7b6",
   "metadata": {},
   "outputs": [],
   "source": []
  },
  {
   "cell_type": "code",
   "execution_count": null,
   "id": "a08077c7-c0eb-42ba-82fb-3d1e8ce21384",
   "metadata": {},
   "outputs": [],
   "source": []
  },
  {
   "cell_type": "code",
   "execution_count": null,
   "id": "092ccbaa-4403-411e-89b2-344f65986ad2",
   "metadata": {},
   "outputs": [],
   "source": []
  },
  {
   "cell_type": "code",
   "execution_count": null,
   "id": "37eefbad-ba48-4dc2-b7c4-49e71467a6d1",
   "metadata": {},
   "outputs": [],
   "source": []
  }
 ],
 "metadata": {
  "kernelspec": {
   "display_name": "Python 3 (ipykernel)",
   "language": "python",
   "name": "python3"
  },
  "language_info": {
   "codemirror_mode": {
    "name": "ipython",
    "version": 3
   },
   "file_extension": ".py",
   "mimetype": "text/x-python",
   "name": "python",
   "nbconvert_exporter": "python",
   "pygments_lexer": "ipython3",
   "version": "3.10.12"
  }
 },
 "nbformat": 4,
 "nbformat_minor": 5
}
